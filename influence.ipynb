{
 "cells": [
  {
   "cell_type": "code",
   "id": "initial_id",
   "metadata": {
    "collapsed": true,
    "ExecuteTime": {
     "end_time": "2024-12-04T19:23:59.594751Z",
     "start_time": "2024-12-04T19:23:57.716490Z"
    }
   },
   "source": [
    "import matplotlib.pyplot as plt\n",
    "import seaborn as sns\n",
    "import pandas as pd\n",
    "from sklearn.linear_model import LinearRegression\n",
    "from sklearn.tree import DecisionTreeRegressor, plot_tree"
   ],
   "outputs": [],
   "execution_count": 1
  },
  {
   "metadata": {
    "ExecuteTime": {
     "end_time": "2024-12-04T19:24:02.547464Z",
     "start_time": "2024-12-04T19:23:59.604303Z"
    }
   },
   "cell_type": "code",
   "source": [
    "df_size = pd.read_csv('project_size.csv')\n",
    "df_popularity = pd.read_csv('popularity.csv')\n",
    "df_dep_type = pd.read_csv('dependency_type.csv')\n",
    "df_freq = pd.read_csv('time_frequency.csv')"
   ],
   "id": "686d2e08424690b8",
   "outputs": [],
   "execution_count": 2
  },
  {
   "metadata": {
    "ExecuteTime": {
     "end_time": "2024-12-04T19:24:02.829898Z",
     "start_time": "2024-12-04T19:24:02.808291Z"
    }
   },
   "cell_type": "code",
   "source": "df_size",
   "id": "7e810e31ad0d4ea4",
   "outputs": [
    {
     "data": {
      "text/plain": [
       "                                                 Artifact  ReleaseCount\n",
       "0             com.google.apis:google-api-services-adsense          4639\n",
       "1                          org.wso2.identity.apps:console          3614\n",
       "2                        org.wso2.identity.apps:myaccount          3568\n",
       "3       com.google.apis:google-api-services-youtubeAna...          3281\n",
       "4            com.google.apis:google-api-services-genomics          3158\n",
       "...                                                   ...           ...\n",
       "634998               com.appstractive:jwt-hmac-kt-android             1\n",
       "634999                       io.gitee.ssoss:hutool-parent             1\n",
       "635000      io.github.skylarkarms:concurrents-lazy_holder             1\n",
       "635001                              com.abysscat:catutils             1\n",
       "635002  io.github.gentle-hilt:voyager-screenmodel-ioss...             1\n",
       "\n",
       "[635003 rows x 2 columns]"
      ],
      "text/html": [
       "<div>\n",
       "<style scoped>\n",
       "    .dataframe tbody tr th:only-of-type {\n",
       "        vertical-align: middle;\n",
       "    }\n",
       "\n",
       "    .dataframe tbody tr th {\n",
       "        vertical-align: top;\n",
       "    }\n",
       "\n",
       "    .dataframe thead th {\n",
       "        text-align: right;\n",
       "    }\n",
       "</style>\n",
       "<table border=\"1\" class=\"dataframe\">\n",
       "  <thead>\n",
       "    <tr style=\"text-align: right;\">\n",
       "      <th></th>\n",
       "      <th>Artifact</th>\n",
       "      <th>ReleaseCount</th>\n",
       "    </tr>\n",
       "  </thead>\n",
       "  <tbody>\n",
       "    <tr>\n",
       "      <th>0</th>\n",
       "      <td>com.google.apis:google-api-services-adsense</td>\n",
       "      <td>4639</td>\n",
       "    </tr>\n",
       "    <tr>\n",
       "      <th>1</th>\n",
       "      <td>org.wso2.identity.apps:console</td>\n",
       "      <td>3614</td>\n",
       "    </tr>\n",
       "    <tr>\n",
       "      <th>2</th>\n",
       "      <td>org.wso2.identity.apps:myaccount</td>\n",
       "      <td>3568</td>\n",
       "    </tr>\n",
       "    <tr>\n",
       "      <th>3</th>\n",
       "      <td>com.google.apis:google-api-services-youtubeAna...</td>\n",
       "      <td>3281</td>\n",
       "    </tr>\n",
       "    <tr>\n",
       "      <th>4</th>\n",
       "      <td>com.google.apis:google-api-services-genomics</td>\n",
       "      <td>3158</td>\n",
       "    </tr>\n",
       "    <tr>\n",
       "      <th>...</th>\n",
       "      <td>...</td>\n",
       "      <td>...</td>\n",
       "    </tr>\n",
       "    <tr>\n",
       "      <th>634998</th>\n",
       "      <td>com.appstractive:jwt-hmac-kt-android</td>\n",
       "      <td>1</td>\n",
       "    </tr>\n",
       "    <tr>\n",
       "      <th>634999</th>\n",
       "      <td>io.gitee.ssoss:hutool-parent</td>\n",
       "      <td>1</td>\n",
       "    </tr>\n",
       "    <tr>\n",
       "      <th>635000</th>\n",
       "      <td>io.github.skylarkarms:concurrents-lazy_holder</td>\n",
       "      <td>1</td>\n",
       "    </tr>\n",
       "    <tr>\n",
       "      <th>635001</th>\n",
       "      <td>com.abysscat:catutils</td>\n",
       "      <td>1</td>\n",
       "    </tr>\n",
       "    <tr>\n",
       "      <th>635002</th>\n",
       "      <td>io.github.gentle-hilt:voyager-screenmodel-ioss...</td>\n",
       "      <td>1</td>\n",
       "    </tr>\n",
       "  </tbody>\n",
       "</table>\n",
       "<p>635003 rows × 2 columns</p>\n",
       "</div>"
      ]
     },
     "execution_count": 3,
     "metadata": {},
     "output_type": "execute_result"
    }
   ],
   "execution_count": 3
  },
  {
   "metadata": {
    "ExecuteTime": {
     "end_time": "2024-12-04T19:24:02.891602Z",
     "start_time": "2024-12-04T19:24:02.879568Z"
    }
   },
   "cell_type": "code",
   "source": "df_popularity",
   "id": "7b3ffeb9dcf75ce3",
   "outputs": [
    {
     "data": {
      "text/plain": [
       "                                                 Artifact  UpdateCount  \\\n",
       "0             com.google.apis:google-api-services-adsense         4639   \n",
       "1                        org.wso2.identity.apps:myaccount         3565   \n",
       "2                          org.wso2.identity.apps:console         3483   \n",
       "3       com.google.apis:google-api-services-youtubeAna...         3281   \n",
       "4            com.google.apis:google-api-services-genomics         3158   \n",
       "...                                                   ...          ...   \n",
       "852275                    org.lwapp:lwapp-dropwizard-core            1   \n",
       "852276                       com.simple:simplespec_2.10.2            1   \n",
       "852277                    org.typelevel:cats-testkit_2.13            1   \n",
       "852278          com.azure:azure-security-keyvault-secrets            1   \n",
       "852279          com.azure:azure-security-keyvault-secrets            1   \n",
       "\n",
       "        Popularity  \n",
       "0                0  \n",
       "1                0  \n",
       "2                0  \n",
       "3                0  \n",
       "4                0  \n",
       "...            ...  \n",
       "852275           0  \n",
       "852276           0  \n",
       "852277           2  \n",
       "852278          45  \n",
       "852279          57  \n",
       "\n",
       "[852280 rows x 3 columns]"
      ],
      "text/html": [
       "<div>\n",
       "<style scoped>\n",
       "    .dataframe tbody tr th:only-of-type {\n",
       "        vertical-align: middle;\n",
       "    }\n",
       "\n",
       "    .dataframe tbody tr th {\n",
       "        vertical-align: top;\n",
       "    }\n",
       "\n",
       "    .dataframe thead th {\n",
       "        text-align: right;\n",
       "    }\n",
       "</style>\n",
       "<table border=\"1\" class=\"dataframe\">\n",
       "  <thead>\n",
       "    <tr style=\"text-align: right;\">\n",
       "      <th></th>\n",
       "      <th>Artifact</th>\n",
       "      <th>UpdateCount</th>\n",
       "      <th>Popularity</th>\n",
       "    </tr>\n",
       "  </thead>\n",
       "  <tbody>\n",
       "    <tr>\n",
       "      <th>0</th>\n",
       "      <td>com.google.apis:google-api-services-adsense</td>\n",
       "      <td>4639</td>\n",
       "      <td>0</td>\n",
       "    </tr>\n",
       "    <tr>\n",
       "      <th>1</th>\n",
       "      <td>org.wso2.identity.apps:myaccount</td>\n",
       "      <td>3565</td>\n",
       "      <td>0</td>\n",
       "    </tr>\n",
       "    <tr>\n",
       "      <th>2</th>\n",
       "      <td>org.wso2.identity.apps:console</td>\n",
       "      <td>3483</td>\n",
       "      <td>0</td>\n",
       "    </tr>\n",
       "    <tr>\n",
       "      <th>3</th>\n",
       "      <td>com.google.apis:google-api-services-youtubeAna...</td>\n",
       "      <td>3281</td>\n",
       "      <td>0</td>\n",
       "    </tr>\n",
       "    <tr>\n",
       "      <th>4</th>\n",
       "      <td>com.google.apis:google-api-services-genomics</td>\n",
       "      <td>3158</td>\n",
       "      <td>0</td>\n",
       "    </tr>\n",
       "    <tr>\n",
       "      <th>...</th>\n",
       "      <td>...</td>\n",
       "      <td>...</td>\n",
       "      <td>...</td>\n",
       "    </tr>\n",
       "    <tr>\n",
       "      <th>852275</th>\n",
       "      <td>org.lwapp:lwapp-dropwizard-core</td>\n",
       "      <td>1</td>\n",
       "      <td>0</td>\n",
       "    </tr>\n",
       "    <tr>\n",
       "      <th>852276</th>\n",
       "      <td>com.simple:simplespec_2.10.2</td>\n",
       "      <td>1</td>\n",
       "      <td>0</td>\n",
       "    </tr>\n",
       "    <tr>\n",
       "      <th>852277</th>\n",
       "      <td>org.typelevel:cats-testkit_2.13</td>\n",
       "      <td>1</td>\n",
       "      <td>2</td>\n",
       "    </tr>\n",
       "    <tr>\n",
       "      <th>852278</th>\n",
       "      <td>com.azure:azure-security-keyvault-secrets</td>\n",
       "      <td>1</td>\n",
       "      <td>45</td>\n",
       "    </tr>\n",
       "    <tr>\n",
       "      <th>852279</th>\n",
       "      <td>com.azure:azure-security-keyvault-secrets</td>\n",
       "      <td>1</td>\n",
       "      <td>57</td>\n",
       "    </tr>\n",
       "  </tbody>\n",
       "</table>\n",
       "<p>852280 rows × 3 columns</p>\n",
       "</div>"
      ]
     },
     "execution_count": 4,
     "metadata": {},
     "output_type": "execute_result"
    }
   ],
   "execution_count": 4
  },
  {
   "metadata": {
    "ExecuteTime": {
     "end_time": "2024-12-04T19:24:03.041806Z",
     "start_time": "2024-12-04T19:24:03.014556Z"
    }
   },
   "cell_type": "code",
   "source": "df_dep_type",
   "id": "84993893ab5d12fa",
   "outputs": [
    {
     "data": {
      "text/plain": [
       "                                                  Artifact DependencyType  \\\n",
       "0                               com.amazonaws:aws-java-sdk        compile   \n",
       "1                      software.amazon.awssdk:aws-sdk-java        compile   \n",
       "2        org.wso2.carbon.apimgt:org.wso2.carbon.apimgt....        compile   \n",
       "3         io.streamnative:pulsar-presto-connector-original        compile   \n",
       "4        org.wso2.carbon.apimgt:org.wso2.carbon.apimgt....        compile   \n",
       "...                                                    ...            ...   \n",
       "1004323                           com.jfinal:jfinal_weixin       provided   \n",
       "1004324                           com.jfinal:jfinal_weixin           test   \n",
       "1004325                   com.github.fabienbarbero:sql-api        compile   \n",
       "1004326  org.hibernate.gson-jbossmodules:gson-jbossmodules       provided   \n",
       "1004327                     org.dasein:dasein-cloud-gogrid       provided   \n",
       "\n",
       "          Count  \n",
       "0        429800  \n",
       "1        369593  \n",
       "2        165630  \n",
       "3         98459  \n",
       "4         97135  \n",
       "...         ...  \n",
       "1004323       1  \n",
       "1004324       1  \n",
       "1004325       1  \n",
       "1004326       1  \n",
       "1004327       1  \n",
       "\n",
       "[1004328 rows x 3 columns]"
      ],
      "text/html": [
       "<div>\n",
       "<style scoped>\n",
       "    .dataframe tbody tr th:only-of-type {\n",
       "        vertical-align: middle;\n",
       "    }\n",
       "\n",
       "    .dataframe tbody tr th {\n",
       "        vertical-align: top;\n",
       "    }\n",
       "\n",
       "    .dataframe thead th {\n",
       "        text-align: right;\n",
       "    }\n",
       "</style>\n",
       "<table border=\"1\" class=\"dataframe\">\n",
       "  <thead>\n",
       "    <tr style=\"text-align: right;\">\n",
       "      <th></th>\n",
       "      <th>Artifact</th>\n",
       "      <th>DependencyType</th>\n",
       "      <th>Count</th>\n",
       "    </tr>\n",
       "  </thead>\n",
       "  <tbody>\n",
       "    <tr>\n",
       "      <th>0</th>\n",
       "      <td>com.amazonaws:aws-java-sdk</td>\n",
       "      <td>compile</td>\n",
       "      <td>429800</td>\n",
       "    </tr>\n",
       "    <tr>\n",
       "      <th>1</th>\n",
       "      <td>software.amazon.awssdk:aws-sdk-java</td>\n",
       "      <td>compile</td>\n",
       "      <td>369593</td>\n",
       "    </tr>\n",
       "    <tr>\n",
       "      <th>2</th>\n",
       "      <td>org.wso2.carbon.apimgt:org.wso2.carbon.apimgt....</td>\n",
       "      <td>compile</td>\n",
       "      <td>165630</td>\n",
       "    </tr>\n",
       "    <tr>\n",
       "      <th>3</th>\n",
       "      <td>io.streamnative:pulsar-presto-connector-original</td>\n",
       "      <td>compile</td>\n",
       "      <td>98459</td>\n",
       "    </tr>\n",
       "    <tr>\n",
       "      <th>4</th>\n",
       "      <td>org.wso2.carbon.apimgt:org.wso2.carbon.apimgt....</td>\n",
       "      <td>compile</td>\n",
       "      <td>97135</td>\n",
       "    </tr>\n",
       "    <tr>\n",
       "      <th>...</th>\n",
       "      <td>...</td>\n",
       "      <td>...</td>\n",
       "      <td>...</td>\n",
       "    </tr>\n",
       "    <tr>\n",
       "      <th>1004323</th>\n",
       "      <td>com.jfinal:jfinal_weixin</td>\n",
       "      <td>provided</td>\n",
       "      <td>1</td>\n",
       "    </tr>\n",
       "    <tr>\n",
       "      <th>1004324</th>\n",
       "      <td>com.jfinal:jfinal_weixin</td>\n",
       "      <td>test</td>\n",
       "      <td>1</td>\n",
       "    </tr>\n",
       "    <tr>\n",
       "      <th>1004325</th>\n",
       "      <td>com.github.fabienbarbero:sql-api</td>\n",
       "      <td>compile</td>\n",
       "      <td>1</td>\n",
       "    </tr>\n",
       "    <tr>\n",
       "      <th>1004326</th>\n",
       "      <td>org.hibernate.gson-jbossmodules:gson-jbossmodules</td>\n",
       "      <td>provided</td>\n",
       "      <td>1</td>\n",
       "    </tr>\n",
       "    <tr>\n",
       "      <th>1004327</th>\n",
       "      <td>org.dasein:dasein-cloud-gogrid</td>\n",
       "      <td>provided</td>\n",
       "      <td>1</td>\n",
       "    </tr>\n",
       "  </tbody>\n",
       "</table>\n",
       "<p>1004328 rows × 3 columns</p>\n",
       "</div>"
      ]
     },
     "execution_count": 5,
     "metadata": {},
     "output_type": "execute_result"
    }
   ],
   "execution_count": 5
  },
  {
   "metadata": {
    "ExecuteTime": {
     "end_time": "2024-12-04T19:24:03.842341Z",
     "start_time": "2024-12-04T19:24:03.787864Z"
    }
   },
   "cell_type": "code",
   "source": [
    "# Reused code from time_updates.ipynb\n",
    "df_freq['ReleaseDate'] = pd.to_datetime(df_freq['ReleaseTimestamp'], unit='ms')\n",
    "df_freq = df_freq.sort_values(by=['Project', 'ReleaseDate'])\n",
    "df_freq['TimeBetweenUpdates'] = df_freq.groupby('Project')['ReleaseDate'].diff().dt.days\n",
    "df_freq = df_freq.groupby('Project')['TimeBetweenUpdates'].agg(['mean']).reset_index()\n",
    "df_freq"
   ],
   "id": "d6c3eb6fcc54cc08",
   "outputs": [
    {
     "data": {
      "text/plain": [
       "                                             Project      mean\n",
       "0        com.google.apis:google-api-services-adsense  0.792583\n",
       "1       com.google.apis:google-api-services-genomics  0.884067\n",
       "2  com.google.apis:google-api-services-youtubeAna...  1.060671\n",
       "3                      org.wso2.carbon.apimgt:apimgt  0.880728\n",
       "4              org.wso2.carbon.apimgt:apimgt-feature  0.881322\n",
       "5               org.wso2.carbon.apimgt:carbon-apimgt  0.880391\n",
       "6  org.wso2.carbon.apimgt:org.wso2.carbon.apimgt....  0.881659\n",
       "7  org.wso2.carbon.apimgt:org.wso2.carbon.apimgt....  0.881322\n",
       "8                     org.wso2.identity.apps:console  0.253806\n",
       "9                   org.wso2.identity.apps:myaccount  0.255397"
      ],
      "text/html": [
       "<div>\n",
       "<style scoped>\n",
       "    .dataframe tbody tr th:only-of-type {\n",
       "        vertical-align: middle;\n",
       "    }\n",
       "\n",
       "    .dataframe tbody tr th {\n",
       "        vertical-align: top;\n",
       "    }\n",
       "\n",
       "    .dataframe thead th {\n",
       "        text-align: right;\n",
       "    }\n",
       "</style>\n",
       "<table border=\"1\" class=\"dataframe\">\n",
       "  <thead>\n",
       "    <tr style=\"text-align: right;\">\n",
       "      <th></th>\n",
       "      <th>Project</th>\n",
       "      <th>mean</th>\n",
       "    </tr>\n",
       "  </thead>\n",
       "  <tbody>\n",
       "    <tr>\n",
       "      <th>0</th>\n",
       "      <td>com.google.apis:google-api-services-adsense</td>\n",
       "      <td>0.792583</td>\n",
       "    </tr>\n",
       "    <tr>\n",
       "      <th>1</th>\n",
       "      <td>com.google.apis:google-api-services-genomics</td>\n",
       "      <td>0.884067</td>\n",
       "    </tr>\n",
       "    <tr>\n",
       "      <th>2</th>\n",
       "      <td>com.google.apis:google-api-services-youtubeAna...</td>\n",
       "      <td>1.060671</td>\n",
       "    </tr>\n",
       "    <tr>\n",
       "      <th>3</th>\n",
       "      <td>org.wso2.carbon.apimgt:apimgt</td>\n",
       "      <td>0.880728</td>\n",
       "    </tr>\n",
       "    <tr>\n",
       "      <th>4</th>\n",
       "      <td>org.wso2.carbon.apimgt:apimgt-feature</td>\n",
       "      <td>0.881322</td>\n",
       "    </tr>\n",
       "    <tr>\n",
       "      <th>5</th>\n",
       "      <td>org.wso2.carbon.apimgt:carbon-apimgt</td>\n",
       "      <td>0.880391</td>\n",
       "    </tr>\n",
       "    <tr>\n",
       "      <th>6</th>\n",
       "      <td>org.wso2.carbon.apimgt:org.wso2.carbon.apimgt....</td>\n",
       "      <td>0.881659</td>\n",
       "    </tr>\n",
       "    <tr>\n",
       "      <th>7</th>\n",
       "      <td>org.wso2.carbon.apimgt:org.wso2.carbon.apimgt....</td>\n",
       "      <td>0.881322</td>\n",
       "    </tr>\n",
       "    <tr>\n",
       "      <th>8</th>\n",
       "      <td>org.wso2.identity.apps:console</td>\n",
       "      <td>0.253806</td>\n",
       "    </tr>\n",
       "    <tr>\n",
       "      <th>9</th>\n",
       "      <td>org.wso2.identity.apps:myaccount</td>\n",
       "      <td>0.255397</td>\n",
       "    </tr>\n",
       "  </tbody>\n",
       "</table>\n",
       "</div>"
      ]
     },
     "execution_count": 6,
     "metadata": {},
     "output_type": "execute_result"
    }
   ],
   "execution_count": 6
  },
  {
   "metadata": {
    "ExecuteTime": {
     "end_time": "2024-12-04T19:24:04.360412Z",
     "start_time": "2024-12-04T19:24:04.277496Z"
    }
   },
   "cell_type": "code",
   "source": [
    "# Edit datasets so there are no duplicate columns\n",
    "df_popularity.drop(\"UpdateCount\", axis=1, inplace=True)\n",
    "df_dep_type.drop(\"Count\", axis=1, inplace=True)\n",
    "df_freq.rename(columns={\"Project\": \"Artifact\", \"mean\": \"UpdateFreq\"}, inplace=True)"
   ],
   "id": "e3461fbe35c6b621",
   "outputs": [],
   "execution_count": 7
  },
  {
   "metadata": {
    "ExecuteTime": {
     "end_time": "2024-12-04T19:24:06.027498Z",
     "start_time": "2024-12-04T19:24:04.668032Z"
    }
   },
   "cell_type": "code",
   "source": [
    "# merge it all together\n",
    "df = pd.merge(df_size, df_popularity, on='Artifact')\n",
    "df = pd.merge(df, df_freq, on='Artifact')\n",
    "df = pd.merge(df, df_dep_type, on='Artifact')\n",
    "df"
   ],
   "id": "43b0b6f2458207d4",
   "outputs": [
    {
     "data": {
      "text/plain": [
       "                                            Artifact  ReleaseCount  \\\n",
       "0        com.google.apis:google-api-services-adsense          4639   \n",
       "1  com.google.apis:google-api-services-youtubeAna...          3281   \n",
       "2       com.google.apis:google-api-services-genomics          3158   \n",
       "3  org.wso2.carbon.apimgt:org.wso2.carbon.apimgt....          2967   \n",
       "4  org.wso2.carbon.apimgt:org.wso2.carbon.apimgt....          2967   \n",
       "5  org.wso2.carbon.apimgt:org.wso2.carbon.apimgt....          2967   \n",
       "6  org.wso2.carbon.apimgt:org.wso2.carbon.apimgt....          2967   \n",
       "7  org.wso2.carbon.apimgt:org.wso2.carbon.apimgt....          2967   \n",
       "\n",
       "   Popularity  UpdateFreq DependencyType  \n",
       "0           0    0.792583        compile  \n",
       "1           0    1.060671        compile  \n",
       "2           0    0.884067        compile  \n",
       "3           0    0.881322        compile  \n",
       "4           3    0.881322        compile  \n",
       "5           0    0.881659        compile  \n",
       "6           0    0.881659           test  \n",
       "7           0    0.881659       provided  "
      ],
      "text/html": [
       "<div>\n",
       "<style scoped>\n",
       "    .dataframe tbody tr th:only-of-type {\n",
       "        vertical-align: middle;\n",
       "    }\n",
       "\n",
       "    .dataframe tbody tr th {\n",
       "        vertical-align: top;\n",
       "    }\n",
       "\n",
       "    .dataframe thead th {\n",
       "        text-align: right;\n",
       "    }\n",
       "</style>\n",
       "<table border=\"1\" class=\"dataframe\">\n",
       "  <thead>\n",
       "    <tr style=\"text-align: right;\">\n",
       "      <th></th>\n",
       "      <th>Artifact</th>\n",
       "      <th>ReleaseCount</th>\n",
       "      <th>Popularity</th>\n",
       "      <th>UpdateFreq</th>\n",
       "      <th>DependencyType</th>\n",
       "    </tr>\n",
       "  </thead>\n",
       "  <tbody>\n",
       "    <tr>\n",
       "      <th>0</th>\n",
       "      <td>com.google.apis:google-api-services-adsense</td>\n",
       "      <td>4639</td>\n",
       "      <td>0</td>\n",
       "      <td>0.792583</td>\n",
       "      <td>compile</td>\n",
       "    </tr>\n",
       "    <tr>\n",
       "      <th>1</th>\n",
       "      <td>com.google.apis:google-api-services-youtubeAna...</td>\n",
       "      <td>3281</td>\n",
       "      <td>0</td>\n",
       "      <td>1.060671</td>\n",
       "      <td>compile</td>\n",
       "    </tr>\n",
       "    <tr>\n",
       "      <th>2</th>\n",
       "      <td>com.google.apis:google-api-services-genomics</td>\n",
       "      <td>3158</td>\n",
       "      <td>0</td>\n",
       "      <td>0.884067</td>\n",
       "      <td>compile</td>\n",
       "    </tr>\n",
       "    <tr>\n",
       "      <th>3</th>\n",
       "      <td>org.wso2.carbon.apimgt:org.wso2.carbon.apimgt....</td>\n",
       "      <td>2967</td>\n",
       "      <td>0</td>\n",
       "      <td>0.881322</td>\n",
       "      <td>compile</td>\n",
       "    </tr>\n",
       "    <tr>\n",
       "      <th>4</th>\n",
       "      <td>org.wso2.carbon.apimgt:org.wso2.carbon.apimgt....</td>\n",
       "      <td>2967</td>\n",
       "      <td>3</td>\n",
       "      <td>0.881322</td>\n",
       "      <td>compile</td>\n",
       "    </tr>\n",
       "    <tr>\n",
       "      <th>5</th>\n",
       "      <td>org.wso2.carbon.apimgt:org.wso2.carbon.apimgt....</td>\n",
       "      <td>2967</td>\n",
       "      <td>0</td>\n",
       "      <td>0.881659</td>\n",
       "      <td>compile</td>\n",
       "    </tr>\n",
       "    <tr>\n",
       "      <th>6</th>\n",
       "      <td>org.wso2.carbon.apimgt:org.wso2.carbon.apimgt....</td>\n",
       "      <td>2967</td>\n",
       "      <td>0</td>\n",
       "      <td>0.881659</td>\n",
       "      <td>test</td>\n",
       "    </tr>\n",
       "    <tr>\n",
       "      <th>7</th>\n",
       "      <td>org.wso2.carbon.apimgt:org.wso2.carbon.apimgt....</td>\n",
       "      <td>2967</td>\n",
       "      <td>0</td>\n",
       "      <td>0.881659</td>\n",
       "      <td>provided</td>\n",
       "    </tr>\n",
       "  </tbody>\n",
       "</table>\n",
       "</div>"
      ]
     },
     "execution_count": 8,
     "metadata": {},
     "output_type": "execute_result"
    }
   ],
   "execution_count": 8
  },
  {
   "metadata": {
    "ExecuteTime": {
     "end_time": "2024-12-04T19:24:06.088617Z",
     "start_time": "2024-12-04T19:24:06.074039Z"
    }
   },
   "cell_type": "code",
   "source": "df.isnull().sum()\n",
   "id": "77c789d26bdbcff4",
   "outputs": [
    {
     "data": {
      "text/plain": [
       "Artifact          0\n",
       "ReleaseCount      0\n",
       "Popularity        0\n",
       "UpdateFreq        0\n",
       "DependencyType    0\n",
       "dtype: int64"
      ]
     },
     "execution_count": 9,
     "metadata": {},
     "output_type": "execute_result"
    }
   ],
   "execution_count": 9
  },
  {
   "metadata": {
    "ExecuteTime": {
     "end_time": "2024-12-04T19:24:06.348578Z",
     "start_time": "2024-12-04T19:24:06.335475Z"
    }
   },
   "cell_type": "code",
   "source": "df.info()",
   "id": "15c3a6d3a2604777",
   "outputs": [
    {
     "name": "stdout",
     "output_type": "stream",
     "text": [
      "<class 'pandas.core.frame.DataFrame'>\n",
      "RangeIndex: 8 entries, 0 to 7\n",
      "Data columns (total 5 columns):\n",
      " #   Column          Non-Null Count  Dtype  \n",
      "---  ------          --------------  -----  \n",
      " 0   Artifact        8 non-null      object \n",
      " 1   ReleaseCount    8 non-null      int64  \n",
      " 2   Popularity      8 non-null      int64  \n",
      " 3   UpdateFreq      8 non-null      float64\n",
      " 4   DependencyType  8 non-null      object \n",
      "dtypes: float64(1), int64(2), object(2)\n",
      "memory usage: 452.0+ bytes\n"
     ]
    }
   ],
   "execution_count": 10
  },
  {
   "metadata": {
    "ExecuteTime": {
     "end_time": "2024-12-04T19:24:06.844201Z",
     "start_time": "2024-12-04T19:24:06.696804Z"
    }
   },
   "cell_type": "code",
   "source": [
    "# Show a boxplot of how dependency time influences update frequency\n",
    "sns.boxplot(data=df, x=\"DependencyType\", y=\"UpdateFreq\")\n",
    "plt.show()"
   ],
   "id": "4fd193ba79c22aae",
   "outputs": [
    {
     "data": {
      "text/plain": [
       "<Figure size 640x480 with 1 Axes>"
      ],
      "image/png": "[encoded data removed]"
     },
     "metadata": {},
     "output_type": "display_data"
    }
   ],
   "execution_count": 11
  },
  {
   "metadata": {
    "ExecuteTime": {
     "end_time": "2024-12-04T19:24:07.211538Z",
     "start_time": "2024-12-04T19:24:07.048710Z"
    }
   },
   "cell_type": "code",
   "source": [
    "# Delete outliers for better visibility\n",
    "filt_df = df[df[\"UpdateFreq\"] < 1]\n",
    "filt_df = filt_df[filt_df[\"UpdateFreq\"] > 0.80]\n",
    "sns.boxplot(data=filt_df, x=\"DependencyType\", y=\"UpdateFreq\")\n",
    "plt.show()"
   ],
   "id": "6e183ed35f58a981",
   "outputs": [
    {
     "data": {
      "text/plain": [
       "<Figure size 640x480 with 1 Axes>"
      ],
      "image/png": "[encoded data removed]"
     },
     "metadata": {},
     "output_type": "display_data"
    }
   ],
   "execution_count": 12
  },
  {
   "metadata": {
    "ExecuteTime": {
     "end_time": "2024-12-04T19:24:07.258210Z",
     "start_time": "2024-12-04T19:24:07.242089Z"
    }
   },
   "cell_type": "code",
   "source": [
    "# Convert dependency type to dummies\n",
    "dummy_df = pd.get_dummies(df, columns=[\"DependencyType\"], drop_first=False)\n",
    "dummy_df\n"
   ],
   "id": "26760fac2d0fbe9",
   "outputs": [
    {
     "data": {
      "text/plain": [
       "                                            Artifact  ReleaseCount  \\\n",
       "0        com.google.apis:google-api-services-adsense          4639   \n",
       "1  com.google.apis:google-api-services-youtubeAna...          3281   \n",
       "2       com.google.apis:google-api-services-genomics          3158   \n",
       "3  org.wso2.carbon.apimgt:org.wso2.carbon.apimgt....          2967   \n",
       "4  org.wso2.carbon.apimgt:org.wso2.carbon.apimgt....          2967   \n",
       "5  org.wso2.carbon.apimgt:org.wso2.carbon.apimgt....          2967   \n",
       "6  org.wso2.carbon.apimgt:org.wso2.carbon.apimgt....          2967   \n",
       "7  org.wso2.carbon.apimgt:org.wso2.carbon.apimgt....          2967   \n",
       "\n",
       "   Popularity  UpdateFreq  DependencyType_compile  DependencyType_provided  \\\n",
       "0           0    0.792583                    True                    False   \n",
       "1           0    1.060671                    True                    False   \n",
       "2           0    0.884067                    True                    False   \n",
       "3           0    0.881322                    True                    False   \n",
       "4           3    0.881322                    True                    False   \n",
       "5           0    0.881659                    True                    False   \n",
       "6           0    0.881659                   False                    False   \n",
       "7           0    0.881659                   False                     True   \n",
       "\n",
       "   DependencyType_test  \n",
       "0                False  \n",
       "1                False  \n",
       "2                False  \n",
       "3                False  \n",
       "4                False  \n",
       "5                False  \n",
       "6                 True  \n",
       "7                False  "
      ],
      "text/html": [
       "<div>\n",
       "<style scoped>\n",
       "    .dataframe tbody tr th:only-of-type {\n",
       "        vertical-align: middle;\n",
       "    }\n",
       "\n",
       "    .dataframe tbody tr th {\n",
       "        vertical-align: top;\n",
       "    }\n",
       "\n",
       "    .dataframe thead th {\n",
       "        text-align: right;\n",
       "    }\n",
       "</style>\n",
       "<table border=\"1\" class=\"dataframe\">\n",
       "  <thead>\n",
       "    <tr style=\"text-align: right;\">\n",
       "      <th></th>\n",
       "      <th>Artifact</th>\n",
       "      <th>ReleaseCount</th>\n",
       "      <th>Popularity</th>\n",
       "      <th>UpdateFreq</th>\n",
       "      <th>DependencyType_compile</th>\n",
       "      <th>DependencyType_provided</th>\n",
       "      <th>DependencyType_test</th>\n",
       "    </tr>\n",
       "  </thead>\n",
       "  <tbody>\n",
       "    <tr>\n",
       "      <th>0</th>\n",
       "      <td>com.google.apis:google-api-services-adsense</td>\n",
       "      <td>4639</td>\n",
       "      <td>0</td>\n",
       "      <td>0.792583</td>\n",
       "      <td>True</td>\n",
       "      <td>False</td>\n",
       "      <td>False</td>\n",
       "    </tr>\n",
       "    <tr>\n",
       "      <th>1</th>\n",
       "      <td>com.google.apis:google-api-services-youtubeAna...</td>\n",
       "      <td>3281</td>\n",
       "      <td>0</td>\n",
       "      <td>1.060671</td>\n",
       "      <td>True</td>\n",
       "      <td>False</td>\n",
       "      <td>False</td>\n",
       "    </tr>\n",
       "    <tr>\n",
       "      <th>2</th>\n",
       "      <td>com.google.apis:google-api-services-genomics</td>\n",
       "      <td>3158</td>\n",
       "      <td>0</td>\n",
       "      <td>0.884067</td>\n",
       "      <td>True</td>\n",
       "      <td>False</td>\n",
       "      <td>False</td>\n",
       "    </tr>\n",
       "    <tr>\n",
       "      <th>3</th>\n",
       "      <td>org.wso2.carbon.apimgt:org.wso2.carbon.apimgt....</td>\n",
       "      <td>2967</td>\n",
       "      <td>0</td>\n",
       "      <td>0.881322</td>\n",
       "      <td>True</td>\n",
       "      <td>False</td>\n",
       "      <td>False</td>\n",
       "    </tr>\n",
       "    <tr>\n",
       "      <th>4</th>\n",
       "      <td>org.wso2.carbon.apimgt:org.wso2.carbon.apimgt....</td>\n",
       "      <td>2967</td>\n",
       "      <td>3</td>\n",
       "      <td>0.881322</td>\n",
       "      <td>True</td>\n",
       "      <td>False</td>\n",
       "      <td>False</td>\n",
       "    </tr>\n",
       "    <tr>\n",
       "      <th>5</th>\n",
       "      <td>org.wso2.carbon.apimgt:org.wso2.carbon.apimgt....</td>\n",
       "      <td>2967</td>\n",
       "      <td>0</td>\n",
       "      <td>0.881659</td>\n",
       "      <td>True</td>\n",
       "      <td>False</td>\n",
       "      <td>False</td>\n",
       "    </tr>\n",
       "    <tr>\n",
       "      <th>6</th>\n",
       "      <td>org.wso2.carbon.apimgt:org.wso2.carbon.apimgt....</td>\n",
       "      <td>2967</td>\n",
       "      <td>0</td>\n",
       "      <td>0.881659</td>\n",
       "      <td>False</td>\n",
       "      <td>False</td>\n",
       "      <td>True</td>\n",
       "    </tr>\n",
       "    <tr>\n",
       "      <th>7</th>\n",
       "      <td>org.wso2.carbon.apimgt:org.wso2.carbon.apimgt....</td>\n",
       "      <td>2967</td>\n",
       "      <td>0</td>\n",
       "      <td>0.881659</td>\n",
       "      <td>False</td>\n",
       "      <td>True</td>\n",
       "      <td>False</td>\n",
       "    </tr>\n",
       "  </tbody>\n",
       "</table>\n",
       "</div>"
      ]
     },
     "execution_count": 13,
     "metadata": {},
     "output_type": "execute_result"
    }
   ],
   "execution_count": 13
  },
  {
   "metadata": {
    "ExecuteTime": {
     "end_time": "2024-12-04T19:24:07.352341Z",
     "start_time": "2024-12-04T19:24:07.342313Z"
    }
   },
   "cell_type": "code",
   "source": [
    "# See correlation of variables to update frequency\n",
    "df_temp = dummy_df.drop(\"Artifact\", axis=1, inplace=False)\n",
    "df_temp.corr()[\"UpdateFreq\"]"
   ],
   "id": "1a24f0580a60c1de",
   "outputs": [
    {
     "data": {
      "text/plain": [
       "ReleaseCount              -0.388464\n",
       "Popularity                -0.063908\n",
       "UpdateFreq                 1.000000\n",
       "DependencyType_compile     0.094831\n",
       "DependencyType_provided   -0.062081\n",
       "DependencyType_test       -0.062081\n",
       "Name: UpdateFreq, dtype: float64"
      ]
     },
     "execution_count": 14,
     "metadata": {},
     "output_type": "execute_result"
    }
   ],
   "execution_count": 14
  },
  {
   "metadata": {},
   "cell_type": "markdown",
   "source": "These are the coefficients for correlation, but it doesn't definitely show, which regressor has the most influence. We should try to train a linear regression to see the coefficients.",
   "id": "5fc86bd64466766d"
  },
  {
   "metadata": {
    "ExecuteTime": {
     "end_time": "2024-12-04T19:24:07.571487Z",
     "start_time": "2024-12-04T19:24:07.549754Z"
    }
   },
   "cell_type": "code",
   "source": [
    "X = df_temp.drop(columns=[\"UpdateFreq\"])\n",
    "y = df_temp[\"UpdateFreq\"]\n",
    "\n",
    "model = LinearRegression()\n",
    "model.fit(X, y)\n",
    "\n",
    "print(\"Feature Coefficients:\", model.coef_)\n",
    "print(\"Intercept:\", model.intercept_)"
   ],
   "id": "c4a7ea0f37207ac",
   "outputs": [
    {
     "name": "stdout",
     "output_type": "stream",
     "text": [
      "Feature Coefficients: [-6.67365821e-05 -1.59319101e-02  3.16390506e-02 -1.58195253e-02\n",
      " -1.58195253e-02]\n",
      "Intercept: 1.095485764004359\n"
     ]
    }
   ],
   "execution_count": 15
  },
  {
   "metadata": {},
   "cell_type": "markdown",
   "source": "The biggest absolut number of coefficient has dependency type compile. Lets see, if it is also statistically significant",
   "id": "861b0155f601ba3b"
  },
  {
   "metadata": {
    "ExecuteTime": {
     "end_time": "2024-12-04T19:24:07.834809Z",
     "start_time": "2024-12-04T19:24:07.813867Z"
    }
   },
   "cell_type": "code",
   "source": "X.info()",
   "id": "4d058f682b5509fc",
   "outputs": [
    {
     "name": "stdout",
     "output_type": "stream",
     "text": [
      "<class 'pandas.core.frame.DataFrame'>\n",
      "RangeIndex: 8 entries, 0 to 7\n",
      "Data columns (total 5 columns):\n",
      " #   Column                   Non-Null Count  Dtype\n",
      "---  ------                   --------------  -----\n",
      " 0   ReleaseCount             8 non-null      int64\n",
      " 1   Popularity               8 non-null      int64\n",
      " 2   DependencyType_compile   8 non-null      bool \n",
      " 3   DependencyType_provided  8 non-null      bool \n",
      " 4   DependencyType_test      8 non-null      bool \n",
      "dtypes: bool(3), int64(2)\n",
      "memory usage: 284.0 bytes\n"
     ]
    }
   ],
   "execution_count": 16
  },
  {
   "metadata": {
    "ExecuteTime": {
     "end_time": "2024-12-04T19:24:10.906565Z",
     "start_time": "2024-12-04T19:24:08.011204Z"
    }
   },
   "cell_type": "code",
   "source": [
    "import statsmodels.api as sm\n",
    "\n",
    "# covert bool types to int \n",
    "X = X.astype({'DependencyType_compile': 'int',\n",
    "              'DependencyType_provided': 'int',\n",
    "              'DependencyType_test': 'int'})\n",
    "X2 = sm.add_constant(X)\n",
    "est = sm.OLS(y, X2)\n",
    "est2 = est.fit()\n",
    "print(est2.summary())"
   ],
   "id": "3be9633303a9a3eb",
   "outputs": [
    {
     "name": "stdout",
     "output_type": "stream",
     "text": [
      "                            OLS Regression Results                            \n",
      "==============================================================================\n",
      "Dep. Variable:             UpdateFreq   R-squared:                       0.243\n",
      "Model:                            OLS   Adj. R-squared:                 -0.766\n",
      "Method:                 Least Squares   F-statistic:                    0.2412\n",
      "Date:                Wed, 04 Dec 2024   Prob (F-statistic):              0.898\n",
      "Time:                        14:24:10   Log-Likelihood:                 11.065\n",
      "No. Observations:                   8   AIC:                            -12.13\n",
      "Df Residuals:                       3   BIC:                            -11.73\n",
      "Df Model:                           4                                         \n",
      "Covariance Type:            nonrobust                                         \n",
      "===========================================================================================\n",
      "                              coef    std err          t      P>|t|      [0.025      0.975]\n",
      "-------------------------------------------------------------------------------------------\n",
      "const                       0.8216      0.168      4.881      0.016       0.286       1.357\n",
      "ReleaseCount            -6.674e-05   7.04e-05     -0.948      0.413      -0.000       0.000\n",
      "Popularity                 -0.0159      0.038     -0.424      0.700      -0.136       0.104\n",
      "DependencyType_compile      0.3055      0.089      3.419      0.042       0.021       0.590\n",
      "DependencyType_provided     0.2581      0.091      2.842      0.066      -0.031       0.547\n",
      "DependencyType_test         0.2581      0.091      2.842      0.066      -0.031       0.547\n",
      "==============================================================================\n",
      "Omnibus:                       15.817   Durbin-Watson:                   2.467\n",
      "Prob(Omnibus):                  0.000   Jarque-Bera (JB):                5.955\n",
      "Skew:                           1.836   Prob(JB):                       0.0509\n",
      "Kurtosis:                       5.094   Cond. No.                     9.92e+19\n",
      "==============================================================================\n",
      "\n",
      "Notes:\n",
      "[1] Standard Errors assume that the covariance matrix of the errors is correctly specified.\n",
      "[2] The smallest eigenvalue is 8.77e-33. This might indicate that there are\n",
      "strong multicollinearity problems or that the design matrix is singular.\n"
     ]
    },
    {
     "name": "stderr",
     "output_type": "stream",
     "text": [
      "C:\\tom\\poly\\cloud\\LOG8415-Final\\.venv\\Lib\\site-packages\\scipy\\stats\\_axis_nan_policy.py:418: UserWarning: `kurtosistest` p-value may be inaccurate with fewer than 20 observations; only n=8 observations were given.\n",
      "  return hypotest_fun_in(*args, **kwds)\n"
     ]
    }
   ],
   "execution_count": 17
  },
  {
   "metadata": {},
   "cell_type": "markdown",
   "source": "\n",
   "id": "aca97b53779293a0"
  },
  {
   "metadata": {
    "ExecuteTime": {
     "end_time": "2024-12-04T19:24:11.181479Z",
     "start_time": "2024-12-04T19:24:10.928834Z"
    }
   },
   "cell_type": "code",
   "source": [
    "corr_matrix = X.corr()\n",
    "print(corr_matrix)\n",
    "\n",
    "# Visualize using a heatmap\n",
    "\n",
    "sns.heatmap(corr_matrix, annot=True, cmap=\"coolwarm\")\n",
    "plt.show()\n"
   ],
   "id": "7d5f1e9a9ccaf2e0",
   "outputs": [
    {
     "name": "stdout",
     "output_type": "stream",
     "text": [
      "                         ReleaseCount  Popularity  DependencyType_compile  \\\n",
      "ReleaseCount                 1.000000   -0.190248                0.290608   \n",
      "Popularity                  -0.190248    1.000000                0.218218   \n",
      "DependencyType_compile       0.290608    0.218218                1.000000   \n",
      "DependencyType_provided     -0.190248   -0.142857               -0.654654   \n",
      "DependencyType_test         -0.190248   -0.142857               -0.654654   \n",
      "\n",
      "                         DependencyType_provided  DependencyType_test  \n",
      "ReleaseCount                           -0.190248            -0.190248  \n",
      "Popularity                             -0.142857            -0.142857  \n",
      "DependencyType_compile                 -0.654654            -0.654654  \n",
      "DependencyType_provided                 1.000000            -0.142857  \n",
      "DependencyType_test                    -0.142857             1.000000  \n"
     ]
    },
    {
     "data": {
      "text/plain": [
       "<Figure size 640x480 with 2 Axes>"
      ],
      "image/png": "[encoded data removed]"
     },
     "metadata": {},
     "output_type": "display_data"
    }
   ],
   "execution_count": 18
  }
 ],
 "metadata": {
  "kernelspec": {
   "display_name": "Python 3",
   "language": "python",
   "name": "python3"
  },
  "language_info": {
   "codemirror_mode": {
    "name": "ipython",
    "version": 2
   },
   "file_extension": ".py",
   "mimetype": "text/x-python",
   "name": "python",
   "nbconvert_exporter": "python",
   "pygments_lexer": "ipython2",
   "version": "2.7.6"
  }
 },
 "nbformat": 4,
 "nbformat_minor": 5
}
